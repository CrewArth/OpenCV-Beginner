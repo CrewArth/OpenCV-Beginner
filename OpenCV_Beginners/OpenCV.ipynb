{
 "cells": [
  {
   "cell_type": "code",
   "execution_count": 1,
   "id": "e235347e",
   "metadata": {},
   "outputs": [],
   "source": [
    "import cv2"
   ]
  },
  {
   "cell_type": "code",
   "execution_count": 11,
   "id": "e4c91a05",
   "metadata": {},
   "outputs": [],
   "source": [
    "img = cv2.imread('CrewArthLogo.png')"
   ]
  },
  {
   "cell_type": "code",
   "execution_count": 14,
   "id": "f93c0e48",
   "metadata": {},
   "outputs": [],
   "source": [
    "#2 Show the Image.\n",
    "                \n",
    "cv2.imshow('Crew Arth Logo', img)"
   ]
  },
  {
   "cell_type": "code",
   "execution_count": 12,
   "id": "5b9be257",
   "metadata": {},
   "outputs": [
    {
     "data": {
      "text/plain": [
       "-1"
      ]
     },
     "execution_count": 12,
     "metadata": {},
     "output_type": "execute_result"
    }
   ],
   "source": [
    "cv2.waitKey(1000) # 1000 = 1sec"
   ]
  },
  {
   "cell_type": "code",
   "execution_count": 15,
   "id": "3640b713",
   "metadata": {},
   "outputs": [
    {
     "ename": "TypeError",
     "evalue": "Can't convert object to 'str' for 'winname'",
     "output_type": "error",
     "traceback": [
      "\u001b[1;31m---------------------------------------------------------------------------\u001b[0m",
      "\u001b[1;31mTypeError\u001b[0m                                 Traceback (most recent call last)",
      "Cell \u001b[1;32mIn[15], line 3\u001b[0m\n\u001b[0;32m      1\u001b[0m \u001b[38;5;66;03m#4 Destroy the Window after Opened.\u001b[39;00m\n\u001b[1;32m----> 3\u001b[0m \u001b[43mcv2\u001b[49m\u001b[38;5;241;43m.\u001b[39;49m\u001b[43mdestroyWindow\u001b[49m\u001b[43m(\u001b[49m\u001b[43mimg\u001b[49m\u001b[43m)\u001b[49m\n",
      "\u001b[1;31mTypeError\u001b[0m: Can't convert object to 'str' for 'winname'"
     ]
    }
   ],
   "source": [
    "#4 Destroy the Window after Opened.\n",
    "\n",
    "cv2.destroyWindow(img)"
   ]
  },
  {
   "cell_type": "code",
   "execution_count": 4,
   "id": "8ebd1dbc",
   "metadata": {},
   "outputs": [],
   "source": [
    "#Video 4\n",
    "\n",
    "import numpy as np"
   ]
  },
  {
   "cell_type": "code",
   "execution_count": 2,
   "id": "0981ecc6",
   "metadata": {},
   "outputs": [],
   "source": [
    "img2 = cv2.imread('yt.png')\n",
    "#To Resize Image,\n",
    "resize_img = cv2.resize(img2, (700,400))\n",
    "cv2.imshow('youtube', resize_img)\n",
    "cv2.waitKey(0) #this is in ms.\n",
    "cv2.destroyAllWindows()\n",
    "# print(img2)"
   ]
  },
  {
   "cell_type": "code",
   "execution_count": 5,
   "id": "58bf295d",
   "metadata": {},
   "outputs": [],
   "source": [
    "#Multiple Images in a Single Frame.\n",
    "\n",
    "#1 - Horizontally\n",
    "# We will use hstack n vstack methods of np array.\n",
    "\n",
    "img2 = cv2.imread('yt.png')\n",
    "resize_img = cv2.resize(img2, (500,300))\n",
    "hori_img = np.hstack((resize_img, resize_img))\n",
    "cv2.imshow('youtube', hori_img)\n",
    "cv2.waitKey(0)\n",
    "cv2.destroyAllWindows()\n",
    "# print(img2)"
   ]
  },
  {
   "cell_type": "code",
   "execution_count": 6,
   "id": "2c337ec0",
   "metadata": {},
   "outputs": [],
   "source": [
    "#Multiple Images in a Single Frame.\n",
    "\n",
    "#2 - Vertically\n",
    "# We will use hstack n vstack methods of np array.\n",
    "\n",
    "img2 = cv2.imread('yt.png')\n",
    "resize_img = cv2.resize(img2, (500,300))\n",
    "veri_img = np.vstack((resize_img, resize_img))\n",
    "cv2.imshow('youtube', veri_img)\n",
    "cv2.waitKey(0)\n",
    "cv2.destroyAllWindows()\n",
    "# print(img2)"
   ]
  },
  {
   "cell_type": "code",
   "execution_count": 8,
   "id": "c4302364",
   "metadata": {},
   "outputs": [],
   "source": [
    "#3 - Hori n Veri. all together\n",
    "\n",
    "img3 = cv2.imread('webros.jpg')\n",
    "resize = cv2.resize(img3, (300,300)) #Square img\n",
    "hstack = np.hstack((resize, resize))\n",
    "vstack = np.vstack((hstack, hstack))\n",
    "\n",
    "cv2.imshow('multiple img in one frame', vstack)\n",
    "cv2.waitKey(0)\n",
    "cv2.destroyAllWindows()"
   ]
  },
  {
   "cell_type": "code",
   "execution_count": 12,
   "id": "8c317fba",
   "metadata": {},
   "outputs": [],
   "source": [
    "#Slideshow in Image.\n",
    "\n",
    "import cv2\n",
    "import numpy as np\n",
    "import os\n",
    "\n",
    "#1 We will make a list of name from folder dir.\n",
    "name_list = os.listdir(r'C:\\Streaming\\logo\\thumbnails')\n",
    "\n",
    "for name in name_list:\n",
    "    #1.1 give the path\n",
    "    path = 'C:\\\\Streaming\\\\logo\\\\thumbnails'\n",
    "    img_name = path + '\\\\' + name\n",
    "    img = cv2.imread(img_name)\n",
    "    img = cv2.resize(img, (800, 450))\n",
    "    cv2.imshow('slideshow using open cv', img)\n",
    "    cv2.waitKey(1000)\n",
    "    \n",
    "cv2.destroyAllWindows()"
   ]
  },
  {
   "cell_type": "code",
   "execution_count": 28,
   "id": "c632a486",
   "metadata": {},
   "outputs": [],
   "source": [
    "#Text on Image Tutorial.\n",
    "\n",
    "import cv2\n",
    "\n",
    "img3 = cv2.imread('webros.jpg')\n",
    "img3 = cv2.resize(img3, (500,500))\n",
    "\n",
    "img = img3\n",
    "text = 'We Bros Logo'\n",
    "org = (30,30)\n",
    "fontFace = cv2.FONT_HERSHEY_DUPLEX\n",
    "fontScale = 1\n",
    "color = (0,255,0)#BGR\n",
    "lineType = cv2.LINE_8\n",
    "bottomLeftOrigin = True\n",
    "\n",
    "cv2.putText(img, text, org, fontFace, fontScale, color)\n",
    "cv2.imshow('we bros logo', img3)\n",
    "cv2.waitKey(0)\n",
    "cv2.destroyAllWindows()"
   ]
  },
  {
   "cell_type": "code",
   "execution_count": 35,
   "id": "780d3c10",
   "metadata": {},
   "outputs": [],
   "source": [
    "#Self Test\n",
    "\n",
    "import cv2\n",
    "\n",
    "img = cv2.imread('webros.jpg')\n",
    "img = cv2.resize(img, (500,500))\n",
    "cv2.putText(img, \n",
    "           text = 'logo wb',\n",
    "           org = (50,50),\n",
    "            fontFace = 1,\n",
    "            fontScale = 2,\n",
    "            color = (0,0,255),\n",
    "            lineType = 8,\n",
    "            bottomLeftOrigin = False\n",
    "       )\n",
    "cv2.imshow('logo img', img)\n",
    "cv2.waitKey(0)\n",
    "cv2.destroyAllWindows()"
   ]
  },
  {
   "cell_type": "code",
   "execution_count": 45,
   "id": "85362169",
   "metadata": {},
   "outputs": [],
   "source": [
    "#Draw Line and box on Image.\n",
    "\n",
    "\n",
    "#1 Drawing a Line on a Image.\n",
    "old_img = cv2.imread('webros.jpg')\n",
    "old_img = cv2.resize(old_img, (500,500))\n",
    "\n",
    "new_img = cv2.line(img = old_img, pt1 = (130,370), pt2 = (400,300), color = (0,255,0), thickness= 4)\n",
    "\n",
    "cv2.imshow('l', new_img)\n",
    "cv2.waitKey(0)\n",
    "cv2.destroyAllWindows()"
   ]
  },
  {
   "cell_type": "code",
   "execution_count": 50,
   "id": "09a282e3",
   "metadata": {},
   "outputs": [],
   "source": [
    "#2 Drawing Rectangle on a Image.\n",
    "\n",
    "old_img = cv2.imread('webros.jpg')\n",
    "old_img = cv2.resize(old_img, (500,500))\n",
    "\n",
    "new_img = cv2.rectangle(img = old_img, pt1 = (110,100), pt2 = (400,400), color = (255,0,0),thickness = 4)\n",
    "\n",
    "cv2.imshow('rectangle on img', new_img)\n",
    "cv2.waitKey(0)\n",
    "cv2.destroyAllWindows()"
   ]
  },
  {
   "cell_type": "code",
   "execution_count": 62,
   "id": "6670d65d",
   "metadata": {},
   "outputs": [],
   "source": [
    "#3 Drawing Circle on a Image.\n",
    "\n",
    "import cv2\n",
    "\n",
    "old_img = cv2.imread('webros.jpg')\n",
    "old_img = cv2.resize(old_img, (500,500))\n",
    "\n",
    "new_img = cv2.circle(img = old_img, center = (250,250),radius = 170, color = (255,0,0), thickness = 4, lineType = 16)\n",
    "\n",
    "cv2.imshow('circle on img', new_img)\n",
    "cv2.waitKey(0)\n",
    "cv2.destroyAllWindows()"
   ]
  },
  {
   "cell_type": "code",
   "execution_count": 61,
   "id": "bd781881",
   "metadata": {},
   "outputs": [],
   "source": [
    "#4 Drawing Ellipse on a Image.\n",
    "\n",
    "import cv2\n",
    "\n",
    "old_img = cv2.imread('webros.jpg')\n",
    "old_img = cv2.resize(old_img, (500,500))\n",
    "\n",
    "new_img = cv2.ellipse(img = old_img, center = (250,250), \n",
    "                      axes = (140,200), angle = 33, \n",
    "                      startAngle = 0,endAngle = 360, color = (0,255,0), thickness = 4, lineType = 16)\n",
    "\n",
    "cv2.imshow('ellipse on image', new_img)\n",
    "cv2.waitKey(0)\n",
    "cv2.destroyAllWindows()"
   ]
  },
  {
   "cell_type": "code",
   "execution_count": 70,
   "id": "5814a64d",
   "metadata": {},
   "outputs": [],
   "source": [
    "#5 Drawing Polygon on a Image.\n",
    "\n",
    "import cv2\n",
    "import numpy as np\n",
    "\n",
    "old_img = cv2.imread('webros.jpg')\n",
    "old_img = cv2.resize(old_img, (500,500))\n",
    "\n",
    "new_img = cv2.polylines(img = old_img,\n",
    "                        pts = [np.array([[100,200],[250,100],[150,80],[200,150],[80,400]])], \n",
    "                        isClosed = True, color = (0,0,255), \n",
    "                        thickness= 4, lineType = 16)\n",
    "\n",
    "cv2.imshow('polygon on image', new_img)\n",
    "cv2.waitKey(0)\n",
    "cv2.destroyAllWindows()"
   ]
  },
  {
   "cell_type": "code",
   "execution_count": null,
   "id": "2a290875",
   "metadata": {},
   "outputs": [],
   "source": []
  }
 ],
 "metadata": {
  "kernelspec": {
   "display_name": "Python 3 (ipykernel)",
   "language": "python",
   "name": "python3"
  },
  "language_info": {
   "codemirror_mode": {
    "name": "ipython",
    "version": 3
   },
   "file_extension": ".py",
   "mimetype": "text/x-python",
   "name": "python",
   "nbconvert_exporter": "python",
   "pygments_lexer": "ipython3",
   "version": "3.10.9"
  }
 },
 "nbformat": 4,
 "nbformat_minor": 5
}
